{
 "cells": [
  {
   "cell_type": "markdown",
   "id": "6a14109a",
   "metadata": {},
   "source": [
    "## Data cleaning using pandas"
   ]
  },
  {
   "cell_type": "code",
   "execution_count": 1,
   "id": "573fa674",
   "metadata": {},
   "outputs": [],
   "source": [
    "# importing pandas liberary\n",
    "import pandas as pd"
   ]
  },
  {
   "cell_type": "code",
   "execution_count": 7,
   "id": "3a1c9a17",
   "metadata": {},
   "outputs": [
    {
     "name": "stdout",
     "output_type": "stream",
     "text": [
      "<module 'pandas._version' from 'C:\\\\Users\\\\Dell\\\\anaconda3\\\\Lib\\\\site-packages\\\\pandas\\\\_version.py'>\n"
     ]
    }
   ],
   "source": [
    "# displaying liberary version\n",
    "print(pd._version)"
   ]
  },
  {
   "cell_type": "code",
   "execution_count": 9,
   "id": "8567d3d4",
   "metadata": {},
   "outputs": [],
   "source": [
    "# creating dictionary\n",
    "data={'name':['asiya', 'aisha', 'saifullahi', 'mama', 'aminu', 'usman', 'jamila', 'abubakar'],\n",
    "     'age':[23,30,42,17,50,65,37,20],\n",
    "     'gender' :['female', 'female', 'male', 'female', 'male', 'male', 'female', 'male']}"
   ]
  },
  {
   "cell_type": "code",
   "execution_count": 10,
   "id": "e5448d32",
   "metadata": {},
   "outputs": [],
   "source": [
    "# creating dataframe from dictionary\n",
    "df=pd.DataFrame(data)"
   ]
  },
  {
   "cell_type": "code",
   "execution_count": 11,
   "id": "747c2292",
   "metadata": {},
   "outputs": [
    {
     "name": "stdout",
     "output_type": "stream",
     "text": [
      "         name  age  gender\n",
      "0       asiya   23  female\n",
      "1       aisha   30  female\n",
      "2  saifullahi   42    male\n",
      "3        mama   17  female\n",
      "4       aminu   50    male\n",
      "5       usman   65    male\n",
      "6      jamila   37  female\n",
      "7    abubakar   20    male\n"
     ]
    }
   ],
   "source": [
    "# displaying dataframe\n",
    "print(df)"
   ]
  },
  {
   "cell_type": "code",
   "execution_count": 12,
   "id": "20a8b358",
   "metadata": {},
   "outputs": [
    {
     "name": "stdout",
     "output_type": "stream",
     "text": [
      "<class 'pandas.core.frame.DataFrame'>\n",
      "RangeIndex: 8 entries, 0 to 7\n",
      "Data columns (total 3 columns):\n",
      " #   Column  Non-Null Count  Dtype \n",
      "---  ------  --------------  ----- \n",
      " 0   name    8 non-null      object\n",
      " 1   age     8 non-null      int64 \n",
      " 2   gender  8 non-null      object\n",
      "dtypes: int64(1), object(2)\n",
      "memory usage: 324.0+ bytes\n",
      "None\n"
     ]
    }
   ],
   "source": [
    "# displaying dataframe information\n",
    "print(df.info())"
   ]
  },
  {
   "cell_type": "code",
   "execution_count": 13,
   "id": "61a5c8d3",
   "metadata": {},
   "outputs": [
    {
     "name": "stdout",
     "output_type": "stream",
     "text": [
      "             age\n",
      "count   8.000000\n",
      "mean   35.500000\n",
      "std    16.449056\n",
      "min    17.000000\n",
      "25%    22.250000\n",
      "50%    33.500000\n",
      "75%    44.000000\n",
      "max    65.000000\n"
     ]
    }
   ],
   "source": [
    "# displaying dataframe description\n",
    "print(df.describe())"
   ]
  },
  {
   "cell_type": "code",
   "execution_count": 14,
   "id": "ba90751f",
   "metadata": {},
   "outputs": [],
   "source": [
    "# filtering dataframe for age\n",
    "filter=df[df['age']>30]"
   ]
  },
  {
   "cell_type": "code",
   "execution_count": 16,
   "id": "2ffb4a25",
   "metadata": {},
   "outputs": [
    {
     "name": "stdout",
     "output_type": "stream",
     "text": [
      "         name  age  gender\n",
      "2  saifullahi   42    male\n",
      "4       aminu   50    male\n",
      "5       usman   65    male\n",
      "6      jamila   37  female\n"
     ]
    }
   ],
   "source": [
    "print(filter)"
   ]
  },
  {
   "cell_type": "code",
   "execution_count": 18,
   "id": "20afeebc",
   "metadata": {},
   "outputs": [],
   "source": [
    "# filtering dataframe for male gender\n",
    "filter=df[df['gender']=='male']"
   ]
  },
  {
   "cell_type": "code",
   "execution_count": 19,
   "id": "f8aaf867",
   "metadata": {},
   "outputs": [
    {
     "name": "stdout",
     "output_type": "stream",
     "text": [
      "         name  age gender\n",
      "2  saifullahi   42   male\n",
      "4       aminu   50   male\n",
      "5       usman   65   male\n",
      "7    abubakar   20   male\n"
     ]
    }
   ],
   "source": [
    "print(filter)"
   ]
  },
  {
   "cell_type": "code",
   "execution_count": 20,
   "id": "c35fc3a6",
   "metadata": {},
   "outputs": [],
   "source": [
    "# filtering dataframe for female gender\n",
    "filter=df[df['gender']=='female']"
   ]
  },
  {
   "cell_type": "code",
   "execution_count": 21,
   "id": "076aead3",
   "metadata": {},
   "outputs": [
    {
     "name": "stdout",
     "output_type": "stream",
     "text": [
      "     name  age  gender\n",
      "0   asiya   23  female\n",
      "1   aisha   30  female\n",
      "3    mama   17  female\n",
      "6  jamila   37  female\n"
     ]
    }
   ],
   "source": [
    "print(filter)"
   ]
  },
  {
   "cell_type": "code",
   "execution_count": null,
   "id": "a15c65d9",
   "metadata": {},
   "outputs": [],
   "source": []
  }
 ],
 "metadata": {
  "kernelspec": {
   "display_name": "Python 3 (ipykernel)",
   "language": "python",
   "name": "python3"
  },
  "language_info": {
   "codemirror_mode": {
    "name": "ipython",
    "version": 3
   },
   "file_extension": ".py",
   "mimetype": "text/x-python",
   "name": "python",
   "nbconvert_exporter": "python",
   "pygments_lexer": "ipython3",
   "version": "3.11.5"
  }
 },
 "nbformat": 4,
 "nbformat_minor": 5
}
